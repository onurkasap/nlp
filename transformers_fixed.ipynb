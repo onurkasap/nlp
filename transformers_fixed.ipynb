{
 "nbformat": 4,
 "nbformat_minor": 0,
 "metadata": {
  "colab": {
   "provenance": []
  },
  "kernelspec": {
   "name": "python3",
   "display_name": "Python 3"
  },
  "language_info": {
   "name": "python"
  }
 },
 "cells": [
  {
   "cell_type": "code",
   "source": [
    "!pip install sentence-transformers --quiet"
   ],
   "metadata": {
    "id": "Hn8dKlkG6b5o"
   },
   "execution_count": 8,
   "outputs": []
  },
  {
   "cell_type": "code",
   "execution_count": 9,
   "metadata": {
    "id": "fC_vEXwi5_4I"
   },
   "outputs": [],
   "source": [
    "import pandas as pd\n",
    "from sentence_transformers import SentenceTransformer\n",
    "import numpy as np\n",
    "from sklearn.metrics.pairwise import cosine_similarity"
   ]
  },
  {
   "cell_type": "code",
   "source": [
    "df = pd.read_csv('jobs_dataset.csv')\n",
    "text = df[\"description\"]\n",
    "print(text.head())"
   ],
   "metadata": {
    "colab": {
     "base_uri": "https://localhost:8080/"
    },
    "id": "Y-nAI8sZ7pXn",
    "outputId": "676f56b7-29fa-442b-a291-c3d94d6177d7"
   },
   "execution_count": 10,
   "outputs": [
    {
     "output_type": "stream",
     "name": "stdout",
     "text": [
      "0    Note: By applying to this position you will ha...\n",
      "1    This is where you save and sustain lives\\n\\nAt...\n",
      "2    Redmond, WA • + 2 more•Full Time\\nMessenger\\nM...\n",
      "3    Bellevue, WA • Full Time\\nMeta\\nSoftware Engin...\n",
      "4    Job ID: 694362BR\\nDate posted: May. 22, 2025\\n...\n",
      "Name: description, dtype: object\n"
     ]
    }
   ]
  },
  {
   "cell_type": "code",
   "source": [
    "model = SentenceTransformer(\"paraphrase-MiniLM-L6-v2\")\n",
    "#ilk 100 satır\n",
    "X = text.astype(str).head(100).tolist()\n",
    "#embedding convert\n",
    "embeddings = model.encode(X)\n",
    "\n",
    "print(\"İlk embedding vektoru: \", embeddings[0])\n",
    "print(\"Vektor Boyutu: \", embeddings[0].shape)"
   ],
   "metadata": {
    "colab": {
     "base_uri": "https://localhost:8080/",
     "height": 1000,
     "referenced_widgets": [
      "4892547d30704d74a37895ba60b115e8",
      "4ed92eb86bc24cfaa302d4ec402cc078",
      "b829497f7511433680da625dccdad329",
      "ee8cf8f164754fa9a4a1cfabca1fffda",
      "0a45ffac9da04e1e9319100197cce4bc",
      "1e292019621b4e4b8b14eeee5b100fcc",
      "ded6202e010d42e49b227bb460ce9c69",
      "369a80446d1e468688c57147b8294fe4",
      "da7ca5a885cf434eb4b882406bc28dcf",
      "ee695fed84a14a63af7cd1d7b2fbfcc6",
      "981f3f01a35e4346a8cd565a5d0ce4e8",
      "97f79d34ad344f6dae525583cf7ca46d",
      "0bace702136c4fb1b5368433a762e0ae",
      "80189f737e3643eab7f96a6e50ac3bff",
      "ea9011489e9c4640b3a3207af307de22",
      "1f22290d4f094125a45ee6f1aa04b7d3",
      "a6825a1e305d4766b6c2cb2e8203c446",
      "73b69c6770e44fd889a2791d722a4095",
      "ac8147788350464c9cc61348cb1fe78d",
      "6fbb782b1b654cf688856191d9f123dc",
      "f7f0ee20cfc94eda913d630517a87a00",
      "aa9a04b1a5a04bb09cf929e8c85d1f2d",
      "5ef51d03806c42379258a085776854ba",
      "923d7258cd234ae0ab652c6470f03b2b",
      "181f44b031754484a79287d3274f7574",
      "37fc34c6169141ffa9ed2a4b509c9c91",
      "a6738a328196433080a89544897dc08f",
      "6fa53f5384074469a2f5235850775d50",
      "9992e35df4da41ebac0b5865e9bd3a13",
      "85c5ca34076f46f9beccdddc9db67a1d",
      "6bb7fe56c8b24c1b9ef630f6d2e0b744",
      "43966876205440e5aec74b6a459d5b90",
      "683a50c395024f8da4f29939f64ab86e",
      "2afae20e88484d74bab67e14be64424b",
      "3d90c0ab558843bab990c6bf2b912eee",
      "fa78733a0cf54e788e53beced0ef5831",
      "2e743c01185e47edacf0f5ee142d8f52",
      "499d37326a984fe0a699d388f566c424",
      "a0f3da6d274047739658dff6ae20e6a9",
      "f47d4ebbe9cf45848fe7b15fd402d5ae",
      "1ef7657d577c47289f93962b748a27ab",
      "b20cca41271948bd84c98b6d81b61b20",
      "76fc456e80094f69a86a3f7bc4c10922",
      "a3c3ea79f55a459598723ae2f90ab837",
      "504d477688ae4d4296ef8715fea588de",
      "888f460aa1d94d3b950ffe140e26c2fd",
      "78bc2c85269b4fc19e0e0a1f43b491e7",
      "81a1d7fd4f31487da5cd11a8280201de",
      "5dd83f3cd81545d39d04e125f90b68e3",
      "f572676f3c8a4befacd98e3aba901d6b",
      "82baa93459e14b98848c6d361f74675a",
      "87baa81b654b477a92a6a6687c35c9f4",
      "3fb69228c51b4abdad485640ff3b9b13",
      "1b850d823ad74109a9cb2a8bb0626d35",
      "785beac8a08f48d5bf3008e029a5d8a2",
      "de7ff39f7bd5406bbc91c5164ef485b6",
      "a8fe366871234df6b9ef80e80901d3fa",
      "222879e7eb03450bb9c139afd7e44ecd",
      "4788716e73614a3bab7a97c048f25f9a",
      "f95d329a012545de90a3093e29a117d7",
      "4a260e58537746c5ba0a8c72ccd99fcd",
      "f91eb077c5b34e9cac764c9f4b1be17f",
      "aea17b55d08c49728753e29a3be2647a",
      "0822ddd927b1431d82e31a07082cf4cf",
      "5b8fc2c1a4a8493295901d1775a1cc41",
      "aed4cc1cf0bb4b74a05a86d3afd0f962",
      "e97bd0f491d94c34adeedcc471e29018",
      "b3bdce867af64a0aaf8f0ab406ee4ef3",
      "152935d744b04b21a8b8809370cc04ca",
      "088e299235374fc5b7a3124a9f3ba45b",
      "d1d77311b2064337992aad69dd81372a",
      "46db9e7f3299457d8058a07c8811d04a",
      "816672d29a2344cb80338144c3c9b14f",
      "d559671028084994b276cc6bee3929a6",
      "e939ba867a534d749bd558e8422c635a",
      "40bd3be6dd834152adde1a4a0c36e8cf",
      "aebea01b8b504b5b892163b89df0f5f8",
      "c520b7e6db874955ab2b15fd650ab0a4",
      "b4331a98e2264b2abee66dc255654f97",
      "86d344c5269f449e9f4febb72ac5421a",
      "534893ced0a84f6ca15a424b7b59a0c9",
      "1b9ebdf2a2b94b8aa50d8acb65723b51",
      "4f978b7696b446dcb9246e345bfd95bf",
      "f059c39977a641dd979f8d65a5c884ae",
      "fc0d6c9a023e446e9a083ca5ebb00e94",
      "f2ea3c84cee7403aadc3dc5ea7b9c161",
      "cd3b12f005a14a959e67f56e5486cc93",
      "145f8a2a049a49299ac5469c4680876e",
      "3ac5362964d54e409649c83f9f3e94e2",
      "be65946c2e194da3aa56354f3c7049ad",
      "bb169b13c5594f3289bb74d29fbda69f",
      "bbf8e5efff9f4b9993978c2950311cea",
      "50af3d5caac24f668e56977ddeb50304",
      "63e22c4c8bb04c29ad7638e1395f0c15",
      "3bae69f9f94c41dc91d0bed481a60153",
      "fc2f723af5f34ccc8692654dea47e44b",
      "ffa2940ffe18420f8a825c03ec853640",
      "9d488f08b40b42f986697cdaac08c31f",
      "d799fe2fc1364646953d8024262e2802",
      "9d90fb9ce8d84e818612dea015614081",
      "055b0360aeca4507b7d15bbe8fbecfd8",
      "45cab310de02430d9cbbaa3314122cf2",
      "60056c624b88467eb8e575c7845b2fd0",
      "7f4a7889ac3a421da5db6085e0e2ff58",
      "202df58488d74fc5a850a15ce0da7293",
      "68d5a5f946a043da9763060d38155e9c",
      "5f0612913991418fbcfe9289037d5511",
      "178b871fbff64d60a579095acd995951",
      "25663f0d603b4e0d86c5e538eec6103e",
      "a2f5ca4ab3df44338858166058b992d7",
      "ca9613c75d43454c998bf4ba90a32f55",
      "46b709eef23e464983b3387bc937a94d",
      "8cd87dcb262e413dbc19b5b4cc4be91e",
      "9a8386b44aee4a6784fdcaf1f488032c",
      "e53fd83a587d4ea8ab50db8cc467fea1",
      "63ca9f19a6d4458a9aca52ddccb21317",
      "9ebaaf1caee64e1aa10ffc22f43d3e70",
      "ba6da85bccc041a0b1c029e8b0fae7a1",
      "bc327a1d38bb4aada1e1a930890d5a8a",
      "1cecde784c5d4d30b48a3ef99c698fa5",
      "01d2c76b8eb4414e9315fc99da83a844"
     ]
    },
    "id": "PzeAjKv79zGf",
    "outputId": "ab85cbf5-091a-4ab6-bd1e-efb5c77d8139"
   },
   "execution_count": 11,
   "outputs": [
    {
     "output_type": "stream",
     "name": "stderr",
     "text": [
      "/usr/local/lib/python3.11/dist-packages/huggingface_hub/utils/_auth.py:94: UserWarning: \n",
      "The secret `HF_TOKEN` does not exist in your Colab secrets.\n",
      "To authenticate with the Hugging Face Hub, create a token in your settings tab (https://huggingface.co/settings/tokens), set it as secret in your Google Colab and restart your session.\n",
      "You will be able to reuse this secret in all of your notebooks.\n",
      "Please note that authentication is recommended but still optional to access public models or datasets.\n",
      "  warnings.warn(\n"
     ]
    },
    {
     "output_type": "display_data",
     "data": {
      "text/plain": [
       "modules.json:   0%|          | 0.00/229 [00:00<?, ?B/s]"
      ],
      "application/vnd.jupyter.widget-view+json": {
       "version_major": 2,
       "version_minor": 0,
       "model_id": "4892547d30704d74a37895ba60b115e8"
      }
     },
     "metadata": {}
    },
    {
     "output_type": "display_data",
     "data": {
      "text/plain": [
       "config_sentence_transformers.json:   0%|          | 0.00/122 [00:00<?, ?B/s]"
      ],
      "application/vnd.jupyter.widget-view+json": {
       "version_major": 2,
       "version_minor": 0,
       "model_id": "97f79d34ad344f6dae525583cf7ca46d"
      }
     },
     "metadata": {}
    },
    {
     "output_type": "display_data",
     "data": {
      "text/plain": [
       "README.md: 0.00B [00:00, ?B/s]"
      ],
      "application/vnd.jupyter.widget-view+json": {
       "version_major": 2,
       "version_minor": 0,
       "model_id": "5ef51d03806c42379258a085776854ba"
      }
     },
     "metadata": {}
    },
    {
     "output_type": "display_data",
     "data": {
      "text/plain": [
       "sentence_bert_config.json:   0%|          | 0.00/53.0 [00:00<?, ?B/s]"
      ],
      "application/vnd.jupyter.widget-view+json": {
       "version_major": 2,
       "version_minor": 0,
       "model_id": "2afae20e88484d74bab67e14be64424b"
      }
     },
     "metadata": {}
    },
    {
     "output_type": "display_data",
     "data": {
      "text/plain": [
       "config.json:   0%|          | 0.00/629 [00:00<?, ?B/s]"
      ],
      "application/vnd.jupyter.widget-view+json": {
       "version_major": 2,
       "version_minor": 0,
       "model_id": "504d477688ae4d4296ef8715fea588de"
      }
     },
     "metadata": {}
    },
    {
     "output_type": "display_data",
     "data": {
      "text/plain": [
       "model.safetensors:   0%|          | 0.00/90.9M [00:00<?, ?B/s]"
      ],
      "application/vnd.jupyter.widget-view+json": {
       "version_major": 2,
       "version_minor": 0,
       "model_id": "de7ff39f7bd5406bbc91c5164ef485b6"
      }
     },
     "metadata": {}
    },
    {
     "output_type": "display_data",
     "data": {
      "text/plain": [
       "tokenizer_config.json:   0%|          | 0.00/314 [00:00<?, ?B/s]"
      ],
      "application/vnd.jupyter.widget-view+json": {
       "version_major": 2,
       "version_minor": 0,
       "model_id": "e97bd0f491d94c34adeedcc471e29018"
      }
     },
     "metadata": {}
    },
    {
     "output_type": "display_data",
     "data": {
      "text/plain": [
       "vocab.txt: 0.00B [00:00, ?B/s]"
      ],
      "application/vnd.jupyter.widget-view+json": {
       "version_major": 2,
       "version_minor": 0,
       "model_id": "c520b7e6db874955ab2b15fd650ab0a4"
      }
     },
     "metadata": {}
    },
    {
     "output_type": "display_data",
     "data": {
      "text/plain": [
       "tokenizer.json: 0.00B [00:00, ?B/s]"
      ],
      "application/vnd.jupyter.widget-view+json": {
       "version_major": 2,
       "version_minor": 0,
       "model_id": "3ac5362964d54e409649c83f9f3e94e2"
      }
     },
     "metadata": {}
    },
    {
     "output_type": "display_data",
     "data": {
      "text/plain": [
       "special_tokens_map.json:   0%|          | 0.00/112 [00:00<?, ?B/s]"
      ],
      "application/vnd.jupyter.widget-view+json": {
       "version_major": 2,
       "version_minor": 0,
       "model_id": "9d90fb9ce8d84e818612dea015614081"
      }
     },
     "metadata": {}
    },
    {
     "output_type": "display_data",
     "data": {
      "text/plain": [
       "config.json:   0%|          | 0.00/190 [00:00<?, ?B/s]"
      ],
      "application/vnd.jupyter.widget-view+json": {
       "version_major": 2,
       "version_minor": 0,
       "model_id": "ca9613c75d43454c998bf4ba90a32f55"
      }
     },
     "metadata": {}
    },
    {
     "output_type": "stream",
     "name": "stdout",
     "text": [
      "İlk embedding vektoru:  [ 0.17790055 -0.17744371  0.01912491 -0.06912962 -0.03945197  0.03410618\n",
      " -0.22124732  0.08684611 -0.455475   -0.22658257 -0.2463842  -0.24340071\n",
      "  0.18727331  0.03846695 -0.05264659  0.24317223  0.12903461 -0.1653598\n",
      "  0.38244545 -0.54774153 -0.37036836 -0.11547783 -0.16685517 -0.14776972\n",
      "  0.19747409  0.01036158 -0.0014315  -0.00704131  0.2607039  -0.17248148\n",
      "  0.3375858   0.07222188  0.44168264  0.15253253  0.18585147  0.11355899\n",
      " -0.27528623  0.11742297 -0.15407082  0.08497383  0.09781449 -0.20825395\n",
      "  0.18535978  0.2344684  -0.23724177 -0.18179509 -0.05430398  0.13303497\n",
      " -0.12977277  0.06243793 -0.47756103 -0.26891336 -0.19798656  0.08111723\n",
      " -0.0876811   0.03046035 -0.0723983   0.01111436 -0.25107777 -0.14473194\n",
      " -0.00904828  0.19249785 -0.13566321  0.01243317 -0.06350137 -0.0308058\n",
      " -0.02306494  0.09588505  0.1745403   0.2820979   0.19522889 -0.05972276\n",
      " -0.71455663  0.11924008  0.31564966  0.03729749  0.090626    0.36489388\n",
      "  0.30760682  0.06148651  0.28003138  0.13382532 -0.20901197  0.30610615\n",
      " -0.17553161 -0.14461982 -0.23784082  0.58090967  0.04008539 -0.10580182\n",
      "  0.48794964 -0.18710372 -0.16020356 -0.08437117  0.13084546  0.13411702\n",
      "  0.08135075  0.02222526  0.14539722 -0.01898442 -0.32756063 -0.27890983\n",
      " -0.32635    -0.11649504 -0.34826154 -0.02397692  0.00660905  0.05068667\n",
      " -0.10438866  0.2286297  -0.07271384  0.21635301 -0.26789734  0.07455569\n",
      "  0.00934955 -0.10160349 -0.23403102  0.21297403  0.31198978  0.03749943\n",
      " -0.08276208  0.486175    0.2083355  -0.25997818 -0.15981545 -0.05007584\n",
      " -0.30690467  0.11094306 -0.01009103  0.10129979  0.2068111  -0.1505184\n",
      " -0.0800823   0.12118907  0.0120441   0.16420054 -0.1006816  -0.06799071\n",
      "  0.12220117  0.28906524  0.2763426   0.14000526  0.378213    0.4768668\n",
      "  0.16097876  0.08573963  0.04081338  0.04362721  0.08715589 -0.33823124\n",
      " -0.00542018  0.19679178 -0.07181589 -0.269839    0.18771842 -0.15208524\n",
      "  0.20257112 -0.06650955 -0.176619   -0.00608611 -0.22077227 -0.15465678\n",
      "  0.18907605  0.06300692 -0.15387408  0.05900313  0.14990701 -0.02727589\n",
      " -0.3365926   0.22620504  0.03033301 -0.10185511  0.36923525  0.14233752\n",
      "  0.18095843 -0.19152388  0.0070603   0.09236009 -0.35248208  0.0391335\n",
      "  0.12243298 -0.19829953  0.02594031  0.10539281  0.3026005   0.10198322\n",
      " -0.1205571  -0.05580578 -0.18424487  0.12524123 -0.24984074 -0.00366824\n",
      " -0.22462824 -0.19145921 -0.14074218  0.00641953  0.77042615 -0.17073493\n",
      "  0.03510899  0.44880012  0.08720212 -0.0110121  -0.03105445  0.12729172\n",
      "  0.06800394  0.1131371  -0.03324869  0.24451007  0.0618495   0.3664223\n",
      "  0.12656222 -0.04241537  0.30637032  0.03819237 -0.11810345 -0.2965665\n",
      " -0.25648284  0.12607892 -0.33901867 -0.06363901 -0.19385585  0.37567434\n",
      "  0.09350763 -0.27157205 -0.23654267  0.06080133  0.0693023  -0.09468395\n",
      "  0.29049206  0.09897187  0.19349357 -0.06858181  0.22905576  0.0022484\n",
      " -0.05077913  0.03522166  0.38449115 -0.4653174  -0.57788914  0.21335134\n",
      " -0.20565704  0.1064256  -0.3236874   0.14067532 -0.02233191  0.2709089\n",
      " -0.1356267   0.06130323  0.10220891 -0.01376369 -0.1230767  -0.50004613\n",
      " -0.18142545  0.1500512   0.04067517  0.11227541 -0.2980101  -0.16104189\n",
      " -0.05568495  0.01693088  0.09141014 -0.4844581  -0.02165122  0.41188848\n",
      "  0.27395123  0.1295566   0.34497473 -0.22691147  0.08459585 -0.09263504\n",
      " -0.09940773 -0.2421511   0.3798989  -0.04792264 -0.18072158  0.12003176\n",
      " -0.09485442  0.18101212  0.38832277 -0.20404138 -0.05427895  0.15341735\n",
      " -0.2157055  -0.07062856  0.00285463 -0.17417684  0.2612025   0.095194\n",
      " -0.1977506   0.04721697  0.22740398  0.390796   -0.4465228  -0.03977333\n",
      " -0.06004582  0.1963267   0.1256876  -0.21009722  0.05452612 -0.00180802\n",
      "  0.17230687  0.14945158 -0.1191775   0.14628871 -0.35643858  0.1637442\n",
      "  0.00188445  0.05318911  0.26436663  0.26363292 -0.10795267 -0.2618923\n",
      "  0.30920416 -0.25999418 -0.25984362 -0.01760795 -0.09523831  0.01038797\n",
      "  0.25168282 -0.13087061  0.1086136   0.13317975 -0.1479964   0.14292288\n",
      " -0.12834463  0.18530577 -0.49818623 -0.29483604  0.02850342  0.32259417\n",
      "  0.16170987 -0.26748264 -0.10923661  0.15649387  0.01325137 -0.12105879\n",
      "  0.01730921 -0.10583113  0.20521282 -0.05506992  0.17656659 -0.17317976\n",
      " -0.09427844  0.25226456 -0.36023685 -0.08401819  0.11078425  0.02528963\n",
      " -0.04371232 -0.13753289 -0.1124619  -0.10811451 -0.09407525 -0.34436753\n",
      "  0.0695077  -0.23057461  0.30590686  0.14635904 -0.10097715  0.13568947\n",
      " -0.0619271   0.00383783  0.26634672 -0.12665583  0.15702027  0.0547618\n",
      " -0.18693623 -0.01082063 -0.1325725   0.30619118  0.2528963  -0.08336802\n",
      "  0.15455233 -0.2796959   0.44926414  0.2636308   0.1549092  -0.06366827\n",
      " -0.59045285 -0.07322024 -0.19193737 -0.24277674 -0.04864691  0.2602598 ]\n",
      "Vektor Boyutu:  (384,)\n"
     ]
    }
   ]
  },
  {
   "cell_type": "code",
   "source": [
    "#embeddingleri ayrı sutun halinde ekle\n",
    "embeddings_df = pd.DataFrame(embeddings, columns = [f\"embed_{i}\" for i in range(embeddings.shape[1])])\n",
    "full_df = pd.concat([df.head(100).reset_index(drop=True), embeddings_df],axis=1)\n",
    "print(full_df.head(1))\n"
   ],
   "metadata": {
    "colab": {
     "base_uri": "https://localhost:8080/"
    },
    "id": "M7cMvv6M90mN",
    "outputId": "4daef00b-ed84-45ea-97c8-8fab095457f4"
   },
   "execution_count": 12,
   "outputs": [
    {
     "output_type": "stream",
     "name": "stdout",
     "text": [
      "  company  rating       location  \\\n",
      "0  Google     4.3  San Bruno, CA   \n",
      "\n",
      "                                      positionName  \\\n",
      "0  Senior Data Scientist, Research, YouTube Search   \n",
      "\n",
      "                                         description  \\\n",
      "0  Note: By applying to this position you will ha...   \n",
      "\n",
      "                       salary  \\\n",
      "0  $166,000 - $244,000 a year   \n",
      "\n",
      "                                                 url  jobType/0 jobType/1  \\\n",
      "0  https://www.indeed.com/viewjob?jk=3129ec5dde24...  Full-time       NaN   \n",
      "\n",
      "  jobType/2  ... embed_374 embed_375 embed_376 embed_377  embed_378  \\\n",
      "0       NaN  ...  0.449264  0.263631  0.154909 -0.063668  -0.590453   \n",
      "\n",
      "   embed_379  embed_380  embed_381  embed_382  embed_383  \n",
      "0   -0.07322  -0.191937  -0.242777  -0.048647    0.26026  \n",
      "\n",
      "[1 rows x 398 columns]\n"
     ]
    }
   ]
  },
  {
   "cell_type": "code",
   "source": [
    "similarities = cosine_similarity([embeddings[0]], embeddings)[0]\n",
    "most_similar_idx= similarities[1:].argmax(0)+1\n",
    "print(\"En benzer iş ilanı indeks: \", most_similar_idx)\n",
    "print(\"En benzer iş ilanı açıklaması:\", text.iloc[most_similar_idx])\n"
   ],
   "metadata": {
    "colab": {
     "base_uri": "https://localhost:8080/"
    },
    "id": "oRfO7eFk-wdV",
    "outputId": "43032ca1-fac3-4f37-90b5-7a9b7fe2b29f"
   },
   "execution_count": 17,
   "outputs": [
    {
     "output_type": "stream",
     "name": "stdout",
     "text": [
      "En benzer iş ilanı indeks:  5\n",
      "En benzer iş ilanı açıklaması: Note: By applying to this position you will have an opportunity to share your preferred working location from the following: Mountain View, CA, USA; Cambridge, MA, USA.\n",
      "Minimum qualifications:\n",
      "Master's degree in Statistics, Data Science, Mathematics, Physics, Economics, Operations Research, Engineering, or a related quantitative field.\n",
      "\n",
      "8 years of work experience using analytics to solve product or business problems, coding (e.g., Python, R, SQL), querying databases or statistical analysis, or 6 years of work experience with a PhD degree.\n",
      "\n",
      "Preferred qualifications:\n",
      "10 years of work experience using analytics to solve product or business problems, coding (e.g., Python, R, SQL), querying databases or statistical analysis, or 8 years of work experience with a PhD degree.\n",
      "\n",
      "About the job\n",
      "The Search Platform Data Science team works on understanding and measuring Search systems, including but not limited to Experiment, Reliability, Velocity, Latency, Capacity, Content, Logs Quality and Search Infrastructure.In Google Search, we're re-imagining what it means to search for information – any way and anywhere. To do that, we need to solve complex engineering challenges and expand our infrastructure, while maintaining a universally accessible and useful experience that people around the world rely on. In joining the Search team, you'll have an opportunity to make an impact on billions of people globally.\n",
      "\n",
      "The US base salary range for this full-time position is $197,000-$291,000 + bonus + equity + benefits. Our salary ranges are determined by role, level, and location. Within the range, individual pay is determined by work location and additional factors, including job-related skills, experience, and relevant education or training. Your recruiter can share more about the specific salary range for your preferred location during the hiring process.\n",
      "\n",
      "Please note that the compensation details listed in US role postings reflect the base salary only, and do not include bonus, equity, or benefits. Learn more about benefits at Google.\n",
      "Responsibilities\n",
      "Collaborate with stakeholders in cross-projects and team settings to identify and clarify business or product questions to answer. Provide feedback to translate and refine business questions into analysis, evaluation metrics, or mathematical models.\n",
      "Use custom data infrastructure or existing data models as appropriate, using specialized knowledge. Design and evaluate models to mathematically express and solve defined problems with limited precedent.\n",
      "Research and develop analysis, forecasting, and optimization methods to improve the quality of Google's user-facing products.\n",
      "Own the process of gathering, extracting, and compiling data across sources via relevant tools (e.g., SQL, R, Python). Format, re-structure, or validate data to ensure quality, and review the dataset to ensure it is ready for analysis.\n",
      "Google is proud to be an equal opportunity workplace and is an affirmative action employer. We are committed to equal employment opportunity regardless of race, color, ancestry, religion, sex, national origin, sexual orientation, age, citizenship, marital status, disability, gender identity or Veteran status. We also consider qualified applicants regardless of criminal histories, consistent with legal requirements. See also Google's EEO Policy and EEO is the Law. If you have a disability or special need that requires accommodation, please let us know by completing our Accommodations for Applicants form.\n"
     ]
    }
   ]
  },
  {
   "cell_type": "code",
   "source": [
    "#github yüklemek için\n",
    "\n",
    "import json\n",
    "\n",
    "# Orijinal dosya adı ve düzeltilecek yeni dosya adı\n",
    "original_file = \"transformers.ipynb\"\n",
    "fixed_file = \"transformers_fixed.ipynb\"\n",
    "\n",
    "# Dosyayı oku\n",
    "with open(original_file, \"r\", encoding=\"utf-8\") as f:\n",
    "    data = json.load(f)\n",
    "\n",
    "# \"widgets\" metadata'sını sil\n",
    "if \"widgets\" in data.get(\"metadata\", {}):\n",
    "    del data[\"metadata\"][\"widgets\"]\n",
    "\n",
    "# Düzeltildi olarak kaydet\n",
    "with open(fixed_file, \"w\", encoding=\"utf-8\") as f:\n",
    "    json.dump(data, f, indent=1, ensure_ascii=False)\n",
    "\n",
    "print(f\"Düzeltilmiş dosya '{fixed_file}' olarak kaydedildi. Bunu GitHub'a yükleyebilirsin.\")"
   ],
   "metadata": {
    "colab": {
     "base_uri": "https://localhost:8080/",
     "height": 211
    },
    "id": "Jhrfbb8EzbFX",
    "outputId": "50587895-3a95-4b55-dd20-240e5cd4cb16"
   },
   "execution_count": 20,
   "outputs": [
    {
     "output_type": "error",
     "ename": "FileNotFoundError",
     "evalue": "[Errno 2] No such file or directory: 'transformers.ipynb'",
     "traceback": [
      "\u001b[0;31m---------------------------------------------------------------------------\u001b[0m",
      "\u001b[0;31mFileNotFoundError\u001b[0m                         Traceback (most recent call last)",
      "\u001b[0;32m/tmp/ipython-input-20-1961587742.py\u001b[0m in \u001b[0;36m<cell line: 0>\u001b[0;34m()\u001b[0m\n\u001b[1;32m      8\u001b[0m \u001b[0;34m\u001b[0m\u001b[0m\n\u001b[1;32m      9\u001b[0m \u001b[0;31m# Dosyayı oku\u001b[0m\u001b[0;34m\u001b[0m\u001b[0;34m\u001b[0m\u001b[0m\n\u001b[0;32m---> 10\u001b[0;31m \u001b[0;32mwith\u001b[0m \u001b[0mopen\u001b[0m\u001b[0;34m(\u001b[0m\u001b[0moriginal_file\u001b[0m\u001b[0;34m,\u001b[0m \u001b[0;34m\"r\"\u001b[0m\u001b[0;34m,\u001b[0m \u001b[0mencoding\u001b[0m\u001b[0;34m=\u001b[0m\u001b[0;34m\"utf-8\"\u001b[0m\u001b[0;34m)\u001b[0m \u001b[0;32mas\u001b[0m \u001b[0mf\u001b[0m\u001b[0;34m:\u001b[0m\u001b[0;34m\u001b[0m\u001b[0;34m\u001b[0m\u001b[0m\n\u001b[0m\u001b[1;32m     11\u001b[0m     \u001b[0mdata\u001b[0m \u001b[0;34m=\u001b[0m \u001b[0mjson\u001b[0m\u001b[0;34m.\u001b[0m\u001b[0mload\u001b[0m\u001b[0;34m(\u001b[0m\u001b[0mf\u001b[0m\u001b[0;34m)\u001b[0m\u001b[0;34m\u001b[0m\u001b[0;34m\u001b[0m\u001b[0m\n\u001b[1;32m     12\u001b[0m \u001b[0;34m\u001b[0m\u001b[0m\n",
      "\u001b[0;31mFileNotFoundError\u001b[0m: [Errno 2] No such file or directory: 'transformers.ipynb'"
     ]
    }
   ]
  },
  {
   "cell_type": "code",
   "source": [],
   "metadata": {
    "id": "l8-XneOU0nG_"
   },
   "execution_count": null,
   "outputs": []
  }
 ]
}